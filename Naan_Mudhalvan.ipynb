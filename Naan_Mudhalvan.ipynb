{
  "nbformat": 4,
  "nbformat_minor": 0,
  "metadata": {
    "colab": {
      "provenance": [],
      "authorship_tag": "ABX9TyOV8xEj1YHmkACF1KXEN9V0",
      "include_colab_link": true
    },
    "kernelspec": {
      "name": "python3",
      "display_name": "Python 3"
    },
    "language_info": {
      "name": "python"
    }
  },
  "cells": [
    {
      "cell_type": "markdown",
      "metadata": {
        "id": "view-in-github",
        "colab_type": "text"
      },
      "source": [
        "<a href=\"https://colab.research.google.com/github/tamil038/codsoft/blob/main/Naan_Mudhalvan.ipynb\" target=\"_parent\"><img src=\"https://colab.research.google.com/assets/colab-badge.svg\" alt=\"Open In Colab\"/></a>"
      ]
    },
    {
      "cell_type": "code",
      "source": [
        "# prompt: install the gTTS module\n",
        "\n",
        "!pip install gTTS\n"
      ],
      "metadata": {
        "colab": {
          "base_uri": "https://localhost:8080/"
        },
        "id": "D7WEoeSbrIf4",
        "outputId": "f67b0efb-3d9f-4ebe-8241-54008b4b2c90"
      },
      "execution_count": 11,
      "outputs": [
        {
          "output_type": "stream",
          "name": "stdout",
          "text": [
            "Requirement already satisfied: gTTS in /usr/local/lib/python3.11/dist-packages (2.5.4)\n",
            "Requirement already satisfied: requests<3,>=2.27 in /usr/local/lib/python3.11/dist-packages (from gTTS) (2.32.3)\n",
            "Requirement already satisfied: click<8.2,>=7.1 in /usr/local/lib/python3.11/dist-packages (from gTTS) (8.1.8)\n",
            "Requirement already satisfied: charset-normalizer<4,>=2 in /usr/local/lib/python3.11/dist-packages (from requests<3,>=2.27->gTTS) (3.4.1)\n",
            "Requirement already satisfied: idna<4,>=2.5 in /usr/local/lib/python3.11/dist-packages (from requests<3,>=2.27->gTTS) (3.10)\n",
            "Requirement already satisfied: urllib3<3,>=1.21.1 in /usr/local/lib/python3.11/dist-packages (from requests<3,>=2.27->gTTS) (2.3.0)\n",
            "Requirement already satisfied: certifi>=2017.4.17 in /usr/local/lib/python3.11/dist-packages (from requests<3,>=2.27->gTTS) (2025.1.31)\n"
          ]
        }
      ]
    },
    {
      "cell_type": "code",
      "execution_count": 13,
      "metadata": {
        "colab": {
          "base_uri": "https://localhost:8080/"
        },
        "id": "5pXWIJ8zmtho",
        "outputId": "b5b9191c-f430-46eb-ba72-099aeedd35f5"
      },
      "outputs": [
        {
          "output_type": "stream",
          "name": "stderr",
          "text": [
            "<>:9: SyntaxWarning: 'str' object is not callable; perhaps you missed a comma?\n",
            "<>:9: SyntaxWarning: 'str' object is not callable; perhaps you missed a comma?\n",
            "<ipython-input-13-dc8abe34ad25>:9: SyntaxWarning: 'str' object is not callable; perhaps you missed a comma?\n",
            "  print('speech saved to'(output_file))\n"
          ]
        }
      ],
      "source": [
        "from gtts import gTTS\n",
        "import os\n",
        "\n",
        "def text_to_speech(text,language ='en',output_file = 'output.mp3'):\n",
        "  try:\n",
        "\n",
        "    tts =gTTS(text = text,lang = language, slow = False)\n",
        "    tts.save(output_file)\n",
        "    print('speech saved to'(output_file))\n",
        "\n",
        "    os.system(f\"start {output_file}\" if os.name == \"nt\" else f\"mpg321 (ouput_file)\")\n",
        "\n",
        "  except Exception as e:\n",
        "    print(\"Error:\",str(e))\n",
        "\n",
        "  text = \"Hello,Nirmal! Welcome to the world of jurassic park\"\n",
        "  text_to_speech(text)"
      ]
    },
    {
      "cell_type": "code",
      "source": [],
      "metadata": {
        "id": "vfGJZysinixC"
      },
      "execution_count": null,
      "outputs": []
    }
  ]
}